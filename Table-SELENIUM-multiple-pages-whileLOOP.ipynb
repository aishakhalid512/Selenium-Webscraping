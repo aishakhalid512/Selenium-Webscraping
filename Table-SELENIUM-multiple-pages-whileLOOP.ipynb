{
 "cells": [
  {
   "cell_type": "markdown",
   "metadata": {},
   "source": [
    "### Python Selenium - Multiple pages -while loop -tabular data"
   ]
  },
  {
   "cell_type": "markdown",
   "metadata": {},
   "source": [
    "url : https://cekbpom.pom.go.id/obat"
   ]
  },
  {
   "cell_type": "code",
   "execution_count": 1,
   "metadata": {},
   "outputs": [],
   "source": [
    "from bs4 import BeautifulSoup\n",
    "import requests\n",
    "import pandas as pd\n",
    "import time\n",
    "from selenium.webdriver.support.select import Select\n",
    "#from selenium.webdriver.support.ui import select\n",
    "from selenium import webdriver\n",
    "from selenium.webdriver.chrome.service import Service\n",
    "from selenium.webdriver.common.by import By\n",
    "from selenium.webdriver.chrome.options import Options\n",
    "from random import randint\n",
    "import urllib.parse\n",
    "import warnings\n",
    "warnings.filterwarnings('ignore')\n",
    "headers = {\"Accept-Language\" : \"en-US,en;q=0.5\"}\n",
    "import ssl\n",
    "ssl._create_default_https_context = ssl._create_unverified_context\n",
    "from selenium.common.exceptions import NoSuchElementException, ElementNotVisibleException\n",
    "from selenium.webdriver.support.ui import WebDriverWait\n",
    "from selenium.webdriver.support import expected_conditions as EC\n",
    "import time"
   ]
  },
  {
   "cell_type": "code",
   "execution_count": 15,
   "metadata": {},
   "outputs": [],
   "source": [
    "import requests\n",
    "from bs4 import BeautifulSoup"
   ]
  },
  {
   "cell_type": "code",
   "execution_count": 146,
   "metadata": {},
   "outputs": [],
   "source": [
    "website = 'https://cekbpom.pom.go.id/obat'"
   ]
  },
  {
   "cell_type": "code",
   "execution_count": 147,
   "metadata": {},
   "outputs": [],
   "source": [
    "#get request\n",
    "response = requests.get(website)"
   ]
  },
  {
   "cell_type": "code",
   "execution_count": 148,
   "metadata": {},
   "outputs": [
    {
     "data": {
      "text/plain": [
       "200"
      ]
     },
     "execution_count": 148,
     "metadata": {},
     "output_type": "execute_result"
    }
   ],
   "source": [
    "response.status_code"
   ]
  },
  {
   "cell_type": "markdown",
   "metadata": {},
   "source": [
    "### Headings"
   ]
  },
  {
   "cell_type": "markdown",
   "metadata": {},
   "source": [
    "- Registration_No\n",
    "- Date_of_Issue\n",
    "- Product_Name\n",
    "- Packaging\n",
    "- Manufacturer"
   ]
  },
  {
   "cell_type": "code",
   "execution_count": null,
   "metadata": {},
   "outputs": [],
   "source": [
    "website = 'https://cekbpom.pom.go.id/obat'\n",
    "# chrome_options = Options()\n",
    "# chrome_options.add_argument(\"--lang=en\");\n",
    "# chrome_options.add_experimental_option('excludeSwitches', ['enable-logging'])\n",
    "# prefs = {\n",
    "#         \"translate_whitelists\": {'id':'en'},\n",
    "#        \"translate\":{\"enabled\":\"True\"}}\n",
    "# chrome_options.add_experimental_option(\"prefs\", prefs)\n",
    "#creating driver variable and providing the path where the chrome driver is stored\n",
    "# driver = webdriver.Chrome('C:\\webdrivers\\chromedriver.exe',options=chrome_options)\n",
    "driver = webdriver.Chrome('C:\\webdrivers\\chromedriver.exe')\n",
    "time.sleep(2)\n",
    "driver.get(website)\n",
    "time.sleep(2)\n",
    "driver.maximize_window()\n",
    "time.sleep(2)"
   ]
  },
  {
   "cell_type": "code",
   "execution_count": 66,
   "metadata": {},
   "outputs": [],
   "source": [
    "#Get the html associated with each posting\n",
    "postings = driver.find_elements(By.XPATH, \"//div[@class = 'kt-inbox__item kt-inbox__item--unread']\")"
   ]
  },
  {
   "cell_type": "code",
   "execution_count": 67,
   "metadata": {},
   "outputs": [
    {
     "data": {
      "text/plain": [
       "10"
      ]
     },
     "execution_count": 67,
     "metadata": {},
     "output_type": "execute_result"
    }
   ],
   "source": [
    "len(postings)"
   ]
  },
  {
   "cell_type": "markdown",
   "metadata": {},
   "source": [
    "#### Registration_No"
   ]
  },
  {
   "cell_type": "code",
   "execution_count": 95,
   "metadata": {},
   "outputs": [
    {
     "data": {
      "text/plain": [
       "'DTL2211704210A1'"
      ]
     },
     "execution_count": 95,
     "metadata": {},
     "output_type": "execute_result"
    }
   ],
   "source": [
    "driver.find_element(By.XPATH , \"//div[@class = 'kt-inbox__item kt-inbox__item--unread']/div['kt-inbox__details'][2]\").text.split('\\n')[0]"
   ]
  },
  {
   "cell_type": "markdown",
   "metadata": {},
   "source": [
    "#### Date_of_Issue"
   ]
  },
  {
   "cell_type": "code",
   "execution_count": 96,
   "metadata": {},
   "outputs": [
    {
     "data": {
      "text/plain": [
       "'Terbit: 12-07-2023'"
      ]
     },
     "execution_count": 96,
     "metadata": {},
     "output_type": "execute_result"
    }
   ],
   "source": [
    "driver.find_element(By.XPATH , \"//div[@class = 'kt-inbox__item kt-inbox__item--unread']/div['kt-inbox__details'][2]\").text.split('\\n')[1]"
   ]
  },
  {
   "cell_type": "markdown",
   "metadata": {},
   "source": [
    "#### Product_Name"
   ]
  },
  {
   "cell_type": "code",
   "execution_count": 105,
   "metadata": {},
   "outputs": [
    {
     "data": {
      "text/plain": [
       "'BATUKSIN PLUS'"
      ]
     },
     "execution_count": 105,
     "metadata": {},
     "output_type": "execute_result"
    }
   ],
   "source": [
    "driver.find_element(By.XPATH , \"//div[@class = 'kt-inbox__item kt-inbox__item--unread']/div['kt-inbox__details'][3]/div/span\").text"
   ]
  },
  {
   "cell_type": "markdown",
   "metadata": {},
   "source": [
    "#### Packaging"
   ]
  },
  {
   "cell_type": "code",
   "execution_count": 106,
   "metadata": {},
   "outputs": [
    {
     "data": {
      "text/plain": [
       "'Merk: -\\nKemasan: DUS, 25 CATCH COVER @ 1 STRIP @ 4 TABLET'"
      ]
     },
     "execution_count": 106,
     "metadata": {},
     "output_type": "execute_result"
    }
   ],
   "source": [
    "driver.find_element(By.XPATH , \"//div[@class = 'kt-inbox__item kt-inbox__item--unread']/div['kt-inbox__details'][3]/div/span[2]\").text"
   ]
  },
  {
   "cell_type": "markdown",
   "metadata": {},
   "source": [
    "#### Manufacturer"
   ]
  },
  {
   "cell_type": "code",
   "execution_count": 108,
   "metadata": {},
   "outputs": [
    {
     "data": {
      "text/plain": [
       "'PERUSAHAAN DAGANG DAN INDUSTRI KALIROTO - Indonesia'"
      ]
     },
     "execution_count": 108,
     "metadata": {},
     "output_type": "execute_result"
    }
   ],
   "source": [
    "driver.find_element(By.XPATH , \"//div[@class = 'kt-inbox__item kt-inbox__item--unread']/div['kt-inbox__details'][4]/div/span\").text"
   ]
  },
  {
   "cell_type": "markdown",
   "metadata": {},
   "source": [
    "#### NEXT Button:"
   ]
  },
  {
   "attachments": {
    "image.png": {
     "image/png": "[encoded data removed]"
    }
   },
   "cell_type": "markdown",
   "metadata": {},
   "source": [
    "![image.png](attachment:image.png)"
   ]
  },
  {
   "cell_type": "markdown",
   "metadata": {},
   "source": [
    "- One page lists 10 products\n",
    "- how many pages for 23471 products?\n",
    "- 231 pages approximately"
   ]
  },
  {
   "cell_type": "code",
   "execution_count": 110,
   "metadata": {},
   "outputs": [],
   "source": [
    "NEXT = driver.find_element(By.ID , 'next')"
   ]
  },
  {
   "cell_type": "code",
   "execution_count": 111,
   "metadata": {},
   "outputs": [],
   "source": [
    "NEXT.click()"
   ]
  },
  {
   "cell_type": "markdown",
   "metadata": {},
   "source": [
    "#### Multiple Pages : "
   ]
  },
  {
   "cell_type": "code",
   "execution_count": 142,
   "metadata": {},
   "outputs": [],
   "source": [
    "Registration_No_List = []\n",
    "Date_of_Issue_List = []\n",
    "Product_Name_List = []\n",
    "Packaging_List = []\n",
    "Manufacturer_List = []\n",
    "\n",
    "counter = 0\n",
    "while counter < 766:\n",
    "    time.sleep(2)\n",
    "    driver.execute_script(\"window.scrollTo(0, document.body.scrollHeight);\")\n",
    "    #For loop to go through each posting\n",
    "    for i in range(1, 11):\n",
    "        try:\n",
    "            Registration_No = driver.find_element(By.XPATH , \"//div[@class = 'kt-inbox__item kt-inbox__item--unread'][%i]/div['kt-inbox__details'][2]\" %i).text.split('\\n')[0]\n",
    "            Registration_No_List.append(Registration_No)\n",
    "        except:\n",
    "            Registration_No_List.append('n/a')\n",
    "\n",
    "        try:\n",
    "            Date_of_Issue = driver.find_element(By.XPATH , \"//div[@class = 'kt-inbox__item kt-inbox__item--unread'][%i]/div['kt-inbox__details'][2]\" %i).text.split('\\n')[1]\n",
    "            Date_of_Issue_List.append(Date_of_Issue)\n",
    "        except:\n",
    "            Date_of_Issue_List.append('n/a')\n",
    "\n",
    "        try:\n",
    "            Product_Name = driver.find_element(By.XPATH , \"//div[@class = 'kt-inbox__item kt-inbox__item--unread'][%i]/div['kt-inbox__details'][3]/div/span\" %i).text\n",
    "            Product_Name_List.append(Product_Name)\n",
    "        except:\n",
    "            Product_Name_List.append('n/a')\n",
    "\n",
    "        try:\n",
    "            Packaging = driver.find_element(By.XPATH , \"//div[@class = 'kt-inbox__item kt-inbox__item--unread'][%i]/div['kt-inbox__details'][3]/div/span[2]\" %i).text\n",
    "            Packaging_List.append(Packaging)\n",
    "        except:\n",
    "            Packaging_List.append('n/a')\n",
    "\n",
    "        try:\n",
    "            Manufacturer = driver.find_element(By.XPATH , \"//div[@class = 'kt-inbox__item kt-inbox__item--unread'][%i]/div['kt-inbox__details'][4]/div/span\" %i).text\n",
    "            Manufacturer_List.append(Manufacturer)\n",
    "        except:\n",
    "            Manufacturer_List.append('n/a')\n",
    "            \n",
    "    time.sleep(8)\n",
    "    NEXT = driver.find_element(By.ID , 'next')\n",
    "    NEXT.click()\n",
    "    counter += 1"
   ]
  },
  {
   "cell_type": "code",
   "execution_count": 143,
   "metadata": {},
   "outputs": [],
   "source": [
    "df = pd.DataFrame({'Registration_No' : Registration_No_List , 'Date_of_Issue' : Date_of_Issue_List,\n",
    "                    'Product_Name' : Product_Name_List  , 'Packaging' : Packaging_List ,\n",
    "                   'Manufacturer' : Manufacturer_List})"
   ]
  },
  {
   "cell_type": "code",
   "execution_count": 144,
   "metadata": {},
   "outputs": [
    {
     "data": {
      "text/plain": [
       "(7660, 5)"
      ]
     },
     "execution_count": 144,
     "metadata": {},
     "output_type": "execute_result"
    }
   ],
   "source": [
    "df.shape"
   ]
  },
  {
   "cell_type": "code",
   "execution_count": 136,
   "metadata": {},
   "outputs": [
    {
     "data": {
      "text/html": [
       "<div>\n",
       "<style scoped>\n",
       "    .dataframe tbody tr th:only-of-type {\n",
       "        vertical-align: middle;\n",
       "    }\n",
       "\n",
       "    .dataframe tbody tr th {\n",
       "        vertical-align: top;\n",
       "    }\n",
       "\n",
       "    .dataframe thead th {\n",
       "        text-align: right;\n",
       "    }\n",
       "</style>\n",
       "<table border=\"1\" class=\"dataframe\">\n",
       "  <thead>\n",
       "    <tr style=\"text-align: right;\">\n",
       "      <th></th>\n",
       "      <th>Registration_No</th>\n",
       "      <th>Date_of_Issue</th>\n",
       "      <th>Product_Name</th>\n",
       "      <th>Packaging</th>\n",
       "      <th>Manufacturer</th>\n",
       "    </tr>\n",
       "  </thead>\n",
       "  <tbody>\n",
       "    <tr>\n",
       "      <th>10010</th>\n",
       "      <td>DKL0107914017A1</td>\n",
       "      <td>Terbit: 27-05-2019</td>\n",
       "      <td>REPROSID</td>\n",
       "      <td>Merk: -\\nKemasan: DUS, 3 STRIP @ 10 TABLET SAL...</td>\n",
       "      <td>HARSEN - Indonesia</td>\n",
       "    </tr>\n",
       "    <tr>\n",
       "      <th>10011</th>\n",
       "      <td>DBL7615808729A1</td>\n",
       "      <td>Terbit: 27-05-2019</td>\n",
       "      <td>BIOCREAM</td>\n",
       "      <td>Merk: -\\nKemasan: DUS, TUBE @ 20 G</td>\n",
       "      <td>MERCK TBK - Indonesia</td>\n",
       "    </tr>\n",
       "    <tr>\n",
       "      <th>10012</th>\n",
       "      <td>DKL0827804537A1</td>\n",
       "      <td>Terbit: 27-05-2019</td>\n",
       "      <td>CETYMIN</td>\n",
       "      <td>Merk: -\\nKemasan: DUS, BOTOL PLASTIK (PET) @ 6...</td>\n",
       "      <td>GALENIUM PHARMASIA LAB - Indonesia</td>\n",
       "    </tr>\n",
       "    <tr>\n",
       "      <th>10013</th>\n",
       "      <td>DKL9613305401B2</td>\n",
       "      <td>Terbit: 27-05-2019</td>\n",
       "      <td>LAPIBAL - 500</td>\n",
       "      <td>Merk: -\\nKemasan: DUS, 10 BLISTER @ 10 KAPSUL</td>\n",
       "      <td>LAPI LABORATORIES - Indonesia</td>\n",
       "    </tr>\n",
       "    <tr>\n",
       "      <th>10014</th>\n",
       "      <td>DKL9513305401A2</td>\n",
       "      <td>Terbit: 27-05-2019</td>\n",
       "      <td>LAPIBAL - 250</td>\n",
       "      <td>Merk: -\\nKemasan: DUS, 10 BLISTER @ 10 KAPSUL</td>\n",
       "      <td>LAPI LABORATORIES - Indonesia</td>\n",
       "    </tr>\n",
       "    <tr>\n",
       "      <th>10015</th>\n",
       "      <td>GKL1813320701A1</td>\n",
       "      <td>Terbit: 27-05-2019</td>\n",
       "      <td>MECOBALAMIN</td>\n",
       "      <td>Merk: -\\nKemasan: DUS, 10 BLISTER @ 10 KAPSUL</td>\n",
       "      <td>LAPI LABORATORIES - Indonesia</td>\n",
       "    </tr>\n",
       "    <tr>\n",
       "      <th>10016</th>\n",
       "      <td>GKL9822225701A1</td>\n",
       "      <td>Terbit: 27-05-2019</td>\n",
       "      <td>TRAMADOL</td>\n",
       "      <td>Merk: -\\nKemasan: DUS, 5 STRIP @ 10 KAPSUL</td>\n",
       "      <td>SANBE FARMA - Indonesia</td>\n",
       "    </tr>\n",
       "    <tr>\n",
       "      <th>10017</th>\n",
       "      <td>GKL9922228409A1</td>\n",
       "      <td>Terbit: 27-05-2019</td>\n",
       "      <td>MEFENAMIC ACID</td>\n",
       "      <td>Merk: -\\nKemasan: DUS, 10 STRIP @ 10 KAPLET SA...</td>\n",
       "      <td>SANBE FARMA - Indonesia</td>\n",
       "    </tr>\n",
       "    <tr>\n",
       "      <th>10018</th>\n",
       "      <td>DKL1341000329A1</td>\n",
       "      <td>Terbit: 27-05-2019</td>\n",
       "      <td>IMFURO</td>\n",
       "      <td>Merk: -\\nKemasan: DUS, TUBE @ 10 GRAM</td>\n",
       "      <td>IMMORTAL PHARMACEUTICAL LABORATORIES - Indonesia</td>\n",
       "    </tr>\n",
       "    <tr>\n",
       "      <th>10019</th>\n",
       "      <td>GKL1806718143A1</td>\n",
       "      <td>Terbit: 27-05-2019</td>\n",
       "      <td>RANITIDINE HYDROCHLORIDE</td>\n",
       "      <td>Merk: -\\nKemasan: DUS, 100 AMPUL @ 2 ML</td>\n",
       "      <td>ETHICA INDUSTRI FARMASI (SITE JABABEKA) - Indo...</td>\n",
       "    </tr>\n",
       "    <tr>\n",
       "      <th>10020</th>\n",
       "      <td>DKL9102314743A1</td>\n",
       "      <td>Terbit: 27-05-2019</td>\n",
       "      <td>FENAREN</td>\n",
       "      <td>Merk: -\\nKemasan: DUS, 10 AMPUL @ 3 ML</td>\n",
       "      <td>BERNOFARM - Indonesia</td>\n",
       "    </tr>\n",
       "    <tr>\n",
       "      <th>10021</th>\n",
       "      <td>DKL8711605743A1</td>\n",
       "      <td>Terbit: 27-05-2019</td>\n",
       "      <td>CURACIL</td>\n",
       "      <td>Merk: -\\nKemasan: DUS, 1 VIAL @ 10 ML</td>\n",
       "      <td>KALBE FARMA - Indonesia</td>\n",
       "    </tr>\n",
       "    <tr>\n",
       "      <th>10022</th>\n",
       "      <td>DKL0234600329A1</td>\n",
       "      <td>Terbit: 27-05-2019</td>\n",
       "      <td>CINOGENTA</td>\n",
       "      <td>Merk: -\\nKemasan: DUS, TUBE @ 10 G</td>\n",
       "      <td>FERRON PAR PHARMACEUTICALS - Indonesia</td>\n",
       "    </tr>\n",
       "    <tr>\n",
       "      <th>10023</th>\n",
       "      <td>DKL0434601843A1</td>\n",
       "      <td>Terbit: 27-05-2019</td>\n",
       "      <td>NEULIN</td>\n",
       "      <td>Merk: -\\nKemasan: DUS, 5 AMPUL @ 2 ML</td>\n",
       "      <td>FERRON PAR PHARMACEUTICALS - Indonesia</td>\n",
       "    </tr>\n",
       "    <tr>\n",
       "      <th>10024</th>\n",
       "      <td>DKI0355200143A1</td>\n",
       "      <td>Terbit: 27-05-2019</td>\n",
       "      <td>VENOFER</td>\n",
       "      <td>Merk: -\\nKemasan: DUS, 5 AMPUL @ 5 ML</td>\n",
       "      <td>COMBIPHAR - Indonesia</td>\n",
       "    </tr>\n",
       "    <tr>\n",
       "      <th>10025</th>\n",
       "      <td>DBL0204128063A1</td>\n",
       "      <td>Terbit: 27-05-2019</td>\n",
       "      <td>MALTOFER</td>\n",
       "      <td>Merk: -\\nKemasan: DUS, 5 AMPLOP @ 1 STRIP @ 6 ...</td>\n",
       "      <td>COMBIPHAR - Indonesia</td>\n",
       "    </tr>\n",
       "    <tr>\n",
       "      <th>10026</th>\n",
       "      <td>DBL0204128137A1</td>\n",
       "      <td>Terbit: 27-05-2019</td>\n",
       "      <td>MALTOFER</td>\n",
       "      <td>Merk: -\\nKemasan: DUS, 1 BOTOL @ 150 ML</td>\n",
       "      <td>COMBIPHAR - Indonesia</td>\n",
       "    </tr>\n",
       "    <tr>\n",
       "      <th>10027</th>\n",
       "      <td>DKL1602009110A1</td>\n",
       "      <td>Terbit: 27-05-2019</td>\n",
       "      <td>CLARITIN</td>\n",
       "      <td>Merk: -\\nKemasan: DUS, 10 BLISTER @ 10 TABLET</td>\n",
       "      <td>BAYER INDONESIA - Indonesia</td>\n",
       "    </tr>\n",
       "    <tr>\n",
       "      <th>10028</th>\n",
       "      <td>DKL7802001010A1</td>\n",
       "      <td>Terbit: 27-05-2019</td>\n",
       "      <td>BINOTAL 1000</td>\n",
       "      <td>Merk: -\\nKemasan: DUS, 10 STRIP @ 5 TABLET</td>\n",
       "      <td>BAYER INDONESIA - Indonesia</td>\n",
       "    </tr>\n",
       "    <tr>\n",
       "      <th>10029</th>\n",
       "      <td>DKL7802001010B1</td>\n",
       "      <td>Terbit: 27-05-2019</td>\n",
       "      <td>BINOTAL 500</td>\n",
       "      <td>Merk: -\\nKemasan: DUS, 5 STRIP @ 10 TABLET</td>\n",
       "      <td>BAYER INDONESIA - Indonesia</td>\n",
       "    </tr>\n",
       "  </tbody>\n",
       "</table>\n",
       "</div>"
      ],
      "text/plain": [
       "       Registration_No       Date_of_Issue              Product_Name  \\\n",
       "10010  DKL0107914017A1  Terbit: 27-05-2019                  REPROSID   \n",
       "10011  DBL7615808729A1  Terbit: 27-05-2019                  BIOCREAM   \n",
       "10012  DKL0827804537A1  Terbit: 27-05-2019                   CETYMIN   \n",
       "10013  DKL9613305401B2  Terbit: 27-05-2019             LAPIBAL - 500   \n",
       "10014  DKL9513305401A2  Terbit: 27-05-2019             LAPIBAL - 250   \n",
       "10015  GKL1813320701A1  Terbit: 27-05-2019               MECOBALAMIN   \n",
       "10016  GKL9822225701A1  Terbit: 27-05-2019                  TRAMADOL   \n",
       "10017  GKL9922228409A1  Terbit: 27-05-2019            MEFENAMIC ACID   \n",
       "10018  DKL1341000329A1  Terbit: 27-05-2019                    IMFURO   \n",
       "10019  GKL1806718143A1  Terbit: 27-05-2019  RANITIDINE HYDROCHLORIDE   \n",
       "10020  DKL9102314743A1  Terbit: 27-05-2019                   FENAREN   \n",
       "10021  DKL8711605743A1  Terbit: 27-05-2019                   CURACIL   \n",
       "10022  DKL0234600329A1  Terbit: 27-05-2019                 CINOGENTA   \n",
       "10023  DKL0434601843A1  Terbit: 27-05-2019                    NEULIN   \n",
       "10024  DKI0355200143A1  Terbit: 27-05-2019                   VENOFER   \n",
       "10025  DBL0204128063A1  Terbit: 27-05-2019                  MALTOFER   \n",
       "10026  DBL0204128137A1  Terbit: 27-05-2019                  MALTOFER   \n",
       "10027  DKL1602009110A1  Terbit: 27-05-2019                  CLARITIN   \n",
       "10028  DKL7802001010A1  Terbit: 27-05-2019              BINOTAL 1000   \n",
       "10029  DKL7802001010B1  Terbit: 27-05-2019               BINOTAL 500   \n",
       "\n",
       "                                               Packaging  \\\n",
       "10010  Merk: -\\nKemasan: DUS, 3 STRIP @ 10 TABLET SAL...   \n",
       "10011                 Merk: -\\nKemasan: DUS, TUBE @ 20 G   \n",
       "10012  Merk: -\\nKemasan: DUS, BOTOL PLASTIK (PET) @ 6...   \n",
       "10013      Merk: -\\nKemasan: DUS, 10 BLISTER @ 10 KAPSUL   \n",
       "10014      Merk: -\\nKemasan: DUS, 10 BLISTER @ 10 KAPSUL   \n",
       "10015      Merk: -\\nKemasan: DUS, 10 BLISTER @ 10 KAPSUL   \n",
       "10016         Merk: -\\nKemasan: DUS, 5 STRIP @ 10 KAPSUL   \n",
       "10017  Merk: -\\nKemasan: DUS, 10 STRIP @ 10 KAPLET SA...   \n",
       "10018              Merk: -\\nKemasan: DUS, TUBE @ 10 GRAM   \n",
       "10019            Merk: -\\nKemasan: DUS, 100 AMPUL @ 2 ML   \n",
       "10020             Merk: -\\nKemasan: DUS, 10 AMPUL @ 3 ML   \n",
       "10021              Merk: -\\nKemasan: DUS, 1 VIAL @ 10 ML   \n",
       "10022                 Merk: -\\nKemasan: DUS, TUBE @ 10 G   \n",
       "10023              Merk: -\\nKemasan: DUS, 5 AMPUL @ 2 ML   \n",
       "10024              Merk: -\\nKemasan: DUS, 5 AMPUL @ 5 ML   \n",
       "10025  Merk: -\\nKemasan: DUS, 5 AMPLOP @ 1 STRIP @ 6 ...   \n",
       "10026            Merk: -\\nKemasan: DUS, 1 BOTOL @ 150 ML   \n",
       "10027      Merk: -\\nKemasan: DUS, 10 BLISTER @ 10 TABLET   \n",
       "10028         Merk: -\\nKemasan: DUS, 10 STRIP @ 5 TABLET   \n",
       "10029         Merk: -\\nKemasan: DUS, 5 STRIP @ 10 TABLET   \n",
       "\n",
       "                                            Manufacturer  \n",
       "10010                                 HARSEN - Indonesia  \n",
       "10011                              MERCK TBK - Indonesia  \n",
       "10012                 GALENIUM PHARMASIA LAB - Indonesia  \n",
       "10013                      LAPI LABORATORIES - Indonesia  \n",
       "10014                      LAPI LABORATORIES - Indonesia  \n",
       "10015                      LAPI LABORATORIES - Indonesia  \n",
       "10016                            SANBE FARMA - Indonesia  \n",
       "10017                            SANBE FARMA - Indonesia  \n",
       "10018   IMMORTAL PHARMACEUTICAL LABORATORIES - Indonesia  \n",
       "10019  ETHICA INDUSTRI FARMASI (SITE JABABEKA) - Indo...  \n",
       "10020                              BERNOFARM - Indonesia  \n",
       "10021                            KALBE FARMA - Indonesia  \n",
       "10022             FERRON PAR PHARMACEUTICALS - Indonesia  \n",
       "10023             FERRON PAR PHARMACEUTICALS - Indonesia  \n",
       "10024                              COMBIPHAR - Indonesia  \n",
       "10025                              COMBIPHAR - Indonesia  \n",
       "10026                              COMBIPHAR - Indonesia  \n",
       "10027                        BAYER INDONESIA - Indonesia  \n",
       "10028                        BAYER INDONESIA - Indonesia  \n",
       "10029                        BAYER INDONESIA - Indonesia  "
      ]
     },
     "execution_count": 136,
     "metadata": {},
     "output_type": "execute_result"
    }
   ],
   "source": [
    "df.tail(20)"
   ]
  },
  {
   "cell_type": "code",
   "execution_count": 145,
   "metadata": {},
   "outputs": [],
   "source": [
    "df.to_excel('df-cekbpom.xlsx' , index = False)"
   ]
  },
  {
   "cell_type": "code",
   "execution_count": null,
   "metadata": {},
   "outputs": [],
   "source": []
  },
  {
   "cell_type": "code",
   "execution_count": null,
   "metadata": {},
   "outputs": [],
   "source": []
  }
 ],
 "metadata": {
  "kernelspec": {
   "display_name": "Python 3",
   "language": "python",
   "name": "python3"
  },
  "language_info": {
   "codemirror_mode": {
    "name": "ipython",
    "version": 3
   },
   "file_extension": ".py",
   "mimetype": "text/x-python",
   "name": "python",
   "nbconvert_exporter": "python",
   "pygments_lexer": "ipython3",
   "version": "3.8.3"
  }
 },
 "nbformat": 4,
 "nbformat_minor": 4
}
